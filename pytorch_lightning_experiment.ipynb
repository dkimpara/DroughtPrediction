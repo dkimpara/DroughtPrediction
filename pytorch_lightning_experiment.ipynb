{
 "cells": [
  {
   "cell_type": "markdown",
   "id": "8b2ede54-02e3-4134-9d80-dc0a6d720160",
   "metadata": {},
   "source": [
    "## predicting drought with deep learning"
   ]
  },
  {
   "cell_type": "code",
   "execution_count": 1,
   "id": "12cdc3bd-073d-4f6c-952d-b96eb369ab96",
   "metadata": {},
   "outputs": [],
   "source": [
    "import numpy as np\n",
    "from viz_report import *"
   ]
  },
  {
   "cell_type": "markdown",
   "id": "db36736e-548e-478c-8828-d1a6adf9c9b4",
   "metadata": {},
   "source": [
    "## load the data"
   ]
  },
  {
   "cell_type": "code",
   "execution_count": 2,
   "id": "98763c27-40a7-486e-9e7b-c020dcc0d5b4",
   "metadata": {},
   "outputs": [],
   "source": [
    "def np_load(filename):\n",
    "    path = ''\n",
    "    return np.load(path + filename + '.npy', allow_pickle=True)"
   ]
  },
  {
   "cell_type": "code",
   "execution_count": 3,
   "id": "05dd8b91-7b42-4ebc-ad1a-3bc16b9adbf8",
   "metadata": {},
   "outputs": [],
   "source": [
    "X_train = np_load('X_train')\n",
    "y_train = np_load('y_train')\n",
    "X_valid = np_load('X_valid')\n",
    "y_valid = np_load('y_valid')"
   ]
  },
  {
   "cell_type": "code",
   "execution_count": 4,
   "id": "5f64a306-8efa-4204-84fb-07226f74c8f1",
   "metadata": {},
   "outputs": [],
   "source": [
    "input_size = X_train.shape[1]\n",
    "output_size = 6"
   ]
  },
  {
   "cell_type": "code",
   "execution_count": 14,
   "id": "3a7b836c-5d32-431c-8a06-cbbe262c6fd5",
   "metadata": {},
   "outputs": [],
   "source": [
    "import torch\n",
    "from torch.utils.data import TensorDataset, DataLoader\n",
    "\n",
    "FORMAT = torch.float32\n",
    "\n",
    "train_data = TensorDataset(\n",
    "    torch.tensor(X_train, dtype=FORMAT),\n",
    "    torch.tensor(y_train, dtype=FORMAT)\n",
    ")\n",
    "train_loader = DataLoader(\n",
    "    train_data, shuffle=True, batch_size=1500, drop_last=False\n",
    ")\n",
    "valid_data = TensorDataset(\n",
    "    torch.tensor(X_valid, dtype=FORMAT),\n",
    "    torch.tensor(y_valid, dtype=FORMAT)\n",
    ")\n",
    "valid_loader = DataLoader(\n",
    "    valid_data, shuffle=False, batch_size=1500, drop_last=False\n",
    ")"
   ]
  },
  {
   "cell_type": "code",
   "execution_count": 6,
   "id": "42efdd1c-7047-4de4-8a04-5bc7bb859b00",
   "metadata": {},
   "outputs": [
    {
     "data": {
      "text/plain": [
       "torch.Size([103390, 3810])"
      ]
     },
     "execution_count": 6,
     "metadata": {},
     "output_type": "execute_result"
    }
   ],
   "source": [
    "torch.from_numpy(X_train).size()"
   ]
  },
  {
   "cell_type": "code",
   "execution_count": 20,
   "id": "02c8def6-20f6-468d-9cdb-24c4e068655e",
   "metadata": {
    "tags": []
   },
   "outputs": [],
   "source": [
    "from torch import nn\n",
    "from torchvision import transforms\n",
    "import pytorch_lightning as pl\n",
    "\n",
    "from sklearn.metrics import f1_score, mean_absolute_error\n",
    "\n",
    "def mae_multi(output, target):\n",
    "    y_hat = torch.clamp(torch.round(output), 0, 5.0)\n",
    "    y = torch.clamp(torch.round(target), 0, 5.0)\n",
    "    \n",
    "    return torch.mean(torch.abs(torch.sub(y, y_hat)))\n",
    "        \n",
    "\n",
    "class MLP(pl.LightningModule):\n",
    "  \n",
    "    def __init__(self, input_size, output_size):\n",
    "        \n",
    "        super().__init__()\n",
    "        self.layers = nn.Sequential(\n",
    "          nn.Linear(input_size, 1000),\n",
    "          nn.ReLU(),\n",
    "          nn.Linear(1000, 500),\n",
    "          nn.ReLU(),\n",
    "          nn.Linear(500, 1000),\n",
    "          nn.ReLU(),\n",
    "          nn.Linear(1000, output_size) #no drought, D0 - D5\n",
    "        )\n",
    "        self.loss = mae_multi #or F1 macro loss\n",
    "    \n",
    "    def forward(self, x):\n",
    "        return self.layers(x)\n",
    "  \n",
    "    def training_step(self, batch, batch_idx):\n",
    "        x, y = batch\n",
    "        x = x.view(x.size(0), -1)\n",
    "        y_hat = self.layers(x)\n",
    "        loss = self.loss(y_hat, y)\n",
    "        self.log('train_loss', loss)\n",
    "        return loss\n",
    "    \n",
    "    def test_step(self, batch, batch_idx):\n",
    "        x, y = batch\n",
    "        x = x.view(x.size(0), -1)\n",
    "        y_hat = self.layers(x)\n",
    "        test_loss = self.loss(y_hat, y)\n",
    "        self.log(\"test_loss\", test_loss)\n",
    "  \n",
    "    def configure_optimizers(self):\n",
    "        optimizer = torch.optim.Adam(self.parameters(), lr=1e-4)\n",
    "        return optimizer\n"
   ]
  },
  {
   "cell_type": "code",
   "execution_count": 21,
   "id": "ad25b1ca-c24a-4309-be5e-f5b30d4926f7",
   "metadata": {},
   "outputs": [
    {
     "name": "stderr",
     "output_type": "stream",
     "text": [
      "Global seed set to 42\n",
      "/Users/dkimpara/github/ML class/hw/.venv/lib/python3.10/site-packages/pytorch_lightning/trainer/connectors/accelerator_connector.py:446: LightningDeprecationWarning: Setting `Trainer(gpus=0)` is deprecated in v1.7 and will be removed in v2.0. Please use `Trainer(accelerator='gpu', devices=0)` instead.\n",
      "  rank_zero_deprecation(\n",
      "GPU available: True (mps), used: False\n",
      "TPU available: False, using: 0 TPU cores\n",
      "IPU available: False, using: 0 IPUs\n",
      "HPU available: False, using: 0 HPUs\n",
      "/Users/dkimpara/github/ML class/hw/.venv/lib/python3.10/site-packages/pytorch_lightning/trainer/setup.py:200: UserWarning: MPS available but not used. Set `accelerator` and `devices` using `Trainer(accelerator='mps', devices=1)`.\n",
      "  rank_zero_warn(\n",
      "\n",
      "  | Name   | Type       | Params\n",
      "--------------------------------------\n",
      "0 | layers | Sequential | 4.8 M \n",
      "--------------------------------------\n",
      "4.8 M     Trainable params\n",
      "0         Non-trainable params\n",
      "4.8 M     Total params\n",
      "19.274    Total estimated model params size (MB)\n",
      "/Users/dkimpara/github/ML class/hw/.venv/lib/python3.10/site-packages/pytorch_lightning/trainer/connectors/data_connector.py:224: PossibleUserWarning: The dataloader, train_dataloader, does not have many workers which may be a bottleneck. Consider increasing the value of the `num_workers` argument` (try 8 which is the number of cpus on this machine) in the `DataLoader` init to improve performance.\n",
      "  rank_zero_warn(\n"
     ]
    },
    {
     "data": {
      "application/vnd.jupyter.widget-view+json": {
       "model_id": "ed1eca058b624a4ab7b107e370654bfd",
       "version_major": 2,
       "version_minor": 0
      },
      "text/plain": [
       "Training: 0it [00:00, ?it/s]"
      ]
     },
     "metadata": {},
     "output_type": "display_data"
    },
    {
     "name": "stderr",
     "output_type": "stream",
     "text": [
      "`Trainer.fit` stopped: `max_epochs=10` reached.\n"
     ]
    }
   ],
   "source": [
    "pl.seed_everything(42)\n",
    "mlp = MLP(input_size,output_size)\n",
    "trainer = pl.Trainer(auto_scale_batch_size='power', gpus=0, deterministic=True, max_epochs=10)\n",
    "trainer.fit(mlp, train_loader)"
   ]
  },
  {
   "cell_type": "code",
   "execution_count": 19,
   "id": "06718956-9b38-409c-896a-34932cc45b8c",
   "metadata": {},
   "outputs": [
    {
     "name": "stderr",
     "output_type": "stream",
     "text": [
      "/Users/dkimpara/github/ML class/hw/.venv/lib/python3.10/site-packages/pytorch_lightning/trainer/connectors/data_connector.py:224: PossibleUserWarning: The dataloader, test_dataloader 0, does not have many workers which may be a bottleneck. Consider increasing the value of the `num_workers` argument` (try 8 which is the number of cpus on this machine) in the `DataLoader` init to improve performance.\n",
      "  rank_zero_warn(\n"
     ]
    },
    {
     "data": {
      "application/vnd.jupyter.widget-view+json": {
       "model_id": "53f75c33632a4e41891c12c8117b86e8",
       "version_major": 2,
       "version_minor": 0
      },
      "text/plain": [
       "Testing: 0it [00:00, ?it/s]"
      ]
     },
     "metadata": {},
     "output_type": "display_data"
    },
    {
     "name": "stdout",
     "output_type": "stream",
     "text": [
      "────────────────────────────────────────────────────────────────────────────────────────────────────────────────────────\n",
      "       Test metric             DataLoader 0\n",
      "────────────────────────────────────────────────────────────────────────────────────────────────────────────────────────\n",
      "        test_loss           0.5822092890739441\n",
      "────────────────────────────────────────────────────────────────────────────────────────────────────────────────────────\n"
     ]
    },
    {
     "data": {
      "text/plain": [
       "[{'test_loss': 0.5822092890739441}]"
      ]
     },
     "execution_count": 19,
     "metadata": {},
     "output_type": "execute_result"
    }
   ],
   "source": [
    "trainer.test(model=mlp, dataloaders=valid_loader)"
   ]
  },
  {
   "cell_type": "code",
   "execution_count": null,
   "id": "6d7c6c10-9d0d-4ca1-a687-2e00befd3ee2",
   "metadata": {},
   "outputs": [],
   "source": []
  }
 ],
 "metadata": {
  "kernelspec": {
   "display_name": "Python 3 (ipykernel)",
   "language": "python",
   "name": "python3"
  },
  "language_info": {
   "codemirror_mode": {
    "name": "ipython",
    "version": 3
   },
   "file_extension": ".py",
   "mimetype": "text/x-python",
   "name": "python",
   "nbconvert_exporter": "python",
   "pygments_lexer": "ipython3",
   "version": "3.10.6"
  }
 },
 "nbformat": 4,
 "nbformat_minor": 5
}
