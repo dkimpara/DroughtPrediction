{
 "cells": [
  {
   "cell_type": "code",
   "execution_count": 1,
   "id": "e1db47b1-a586-4db7-a836-8d4d3da8b94d",
   "metadata": {},
   "outputs": [],
   "source": [
    "import numpy as np\n",
    "import pandas as pd\n",
    "from sklearn.metrics import f1_score, mean_absolute_error\n",
    "from datetime import datetime"
   ]
  },
  {
   "cell_type": "code",
   "execution_count": 2,
   "id": "cd5c7cb3-f7a6-4ccc-b25b-808a838a990e",
   "metadata": {},
   "outputs": [],
   "source": [
    "dftrain = pd.read_csv(\"train_timeseries.csv\").set_index(['fips', 'date'])\n",
    "dftest = pd.read_csv(\"test_timeseries.csv\").set_index(['fips', 'date'])"
   ]
  },
  {
   "cell_type": "code",
   "execution_count": 3,
   "id": "bfc8a2ee-1b17-4398-95cb-8288934c87f5",
   "metadata": {},
   "outputs": [],
   "source": [
    "dfval = pd.read_csv(\"validation_timeseries.csv\").set_index(['fips', 'date'])"
   ]
  },
  {
   "cell_type": "markdown",
   "id": "60c096f1-e9ba-4a46-ac42-7488fdf79aa5",
   "metadata": {
    "tags": []
   },
   "source": [
    "## majority label baseline"
   ]
  },
  {
   "cell_type": "code",
   "execution_count": null,
   "id": "1f07d528-f71f-4f26-977e-e76b78288439",
   "metadata": {},
   "outputs": [],
   "source": [
    "def date_encode(date):\n",
    "    if isinstance(date, str):\n",
    "        date = datetime.strptime(date, \"%Y-%m-%d\")\n",
    "    return (\n",
    "        np.sin(2 * np.pi * date.timetuple().tm_yday / 366),\n",
    "        np.cos(2 * np.pi * date.timetuple().tm_yday / 366),\n",
    "    )"
   ]
  },
  {
   "cell_type": "code",
   "execution_count": 6,
   "id": "60be99d8-3ce6-44d5-8a61-aab937b165b4",
   "metadata": {},
   "outputs": [],
   "source": [
    "def cleandf(df):\n",
    "    df = df[['score']].copy()\n",
    "    df = df.dropna(axis=0)\n",
    "    df = df.round().astype(int)\n",
    "    return df\n",
    "\n",
    "def predict(dfclean):\n",
    "    fips_codes = np.unique(dfclean.index.get_level_values(0))\n",
    "    data = {}\n",
    "    true = {}\n",
    "    for fips in fips_codes:\n",
    "        subdf = dfclean.loc[fips]\n",
    "        subdf.sort_index()\n",
    "        for i in range(25, len(subdf) - 5): # 180 days ~ 25 weeks\n",
    "            window = subdf.iloc[i - 25 : i]\n",
    "            maj = np.unique(window)[0]\n",
    "            pred_idx = window.iloc[-1].name \n",
    "            data[(fips, pred_idx)] = [maj] * 6\n",
    "            true[(fips, pred_idx)] = subdf.iloc[i:i+6].to_numpy().flatten()\n",
    "\n",
    "    cols = ['w1', 'w2', 'w3', 'w4', 'w5','w6']\n",
    "    dfres = pd.DataFrame.from_dict(data, orient='index', \n",
    "                       columns=cols)\n",
    "    dftrue = pd.DataFrame.from_dict(true, orient='index', \n",
    "                       columns=cols)\n",
    "    return dfres, dftrue\n",
    "\n",
    "def evaluate(dfres, dftrue):\n",
    "    # check indices match before evaluating\n",
    "    if not np.all(dfres.index == dftrue.index):\n",
    "        print(\"index mismatch\")\n",
    "        return\n",
    "    \n",
    "    cols = ['w1', 'w2', 'w3', 'w4', 'w5','w6']\n",
    "    for col in cols:\n",
    "        y = dftrue[[col]]\n",
    "        y_pred = dfres[[col]]\n",
    "        f1 = f1_score(y, y_pred, average='macro').round(3)\n",
    "        mae = mean_absolute_error(y, y_pred).round(3)\n",
    "        print(col, ' f1: ', f1, ' mae:', mae)\n",
    "def do_all(df):\n",
    "    res, true = predict(cleandf(df))\n",
    "    evaluate(res, true)"
   ]
  },
  {
   "cell_type": "code",
   "execution_count": 7,
   "id": "591118b2-e9e6-4cb2-8535-1d17b975f20b",
   "metadata": {},
   "outputs": [
    {
     "name": "stdout",
     "output_type": "stream",
     "text": [
      "w1  f1:  0.395  mae: 0.506\n",
      "w2  f1:  0.376  mae: 0.524\n",
      "w3  f1:  0.359  mae: 0.54\n",
      "w4  f1:  0.345  mae: 0.556\n",
      "w5  f1:  0.332  mae: 0.57\n",
      "w6  f1:  0.321  mae: 0.583\n",
      "w1  f1:  0.251  mae: 0.475\n",
      "w2  f1:  0.241  mae: 0.485\n",
      "w3  f1:  0.232  mae: 0.493\n",
      "w4  f1:  0.225  mae: 0.501\n",
      "w5  f1:  0.22  mae: 0.507\n",
      "w6  f1:  0.216  mae: 0.512\n",
      "w1  f1:  0.18  mae: 0.401\n",
      "w2  f1:  0.177  mae: 0.415\n",
      "w3  f1:  0.174  mae: 0.429\n",
      "w4  f1:  0.171  mae: 0.442\n",
      "w5  f1:  0.168  mae: 0.456\n",
      "w6  f1:  0.166  mae: 0.469\n"
     ]
    }
   ],
   "source": [
    "dfs = [dftrain, dfval, dftest]\n",
    "\n",
    "for df in dfs:\n",
    "    do_all(df)"
   ]
  },
  {
   "cell_type": "markdown",
   "id": "83c4d639-655e-4922-afb7-4636c6cb36da",
   "metadata": {
    "tags": []
   },
   "source": [
    " f1 is worse on test set but MAE is better on test set?\n",
    " "
   ]
  },
  {
   "cell_type": "code",
   "execution_count": null,
   "id": "e3ae8bb6-424f-4a86-9465-e95dc9a5438e",
   "metadata": {},
   "outputs": [],
   "source": []
  }
 ],
 "metadata": {
  "kernelspec": {
   "display_name": "Python 3 (ipykernel)",
   "language": "python",
   "name": "python3"
  },
  "language_info": {
   "codemirror_mode": {
    "name": "ipython",
    "version": 3
   },
   "file_extension": ".py",
   "mimetype": "text/x-python",
   "name": "python",
   "nbconvert_exporter": "python",
   "pygments_lexer": "ipython3",
   "version": "3.10.6"
  }
 },
 "nbformat": 4,
 "nbformat_minor": 5
}
